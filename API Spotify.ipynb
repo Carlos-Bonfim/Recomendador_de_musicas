{
 "cells": [
  {
   "cell_type": "markdown",
   "metadata": {},
   "source": [
    "# Como buscar informações da API do Spotify\n",
    "\n",
    "Este notebook mostra a forma que consegui puxar as informações para meu projeto. Há outras possibilidades também de buscas e no final mostro algumas referências utilizadas para isso.\n",
    "\n",
    "Para fazer as buscas é necessário as chaves de desevolvedor para API, sendo aprovado a requisição, você obtém as duas chaves como abaixo."
   ]
  },
  {
   "cell_type": "code",
   "execution_count": 1,
   "metadata": {},
   "outputs": [],
   "source": [
    "## instalando a biblioteca do spotipy\n",
    "# pip install spotipy\n",
    "\n",
    "# importando as bibliotecas\n",
    "import pandas as pd\n",
    "import spotipy\n",
    "from spotipy.oauth2 import SpotifyClientCredentials\n",
    "import time\n",
    "\n",
    "# criando um objeto para as chaves de acesso na API\n",
    "cid = 'YOUR_KEY'\n",
    "secret = 'YOUR_SECRET_KEY'\n",
    "\n",
    "# obtendo acesso à API\n",
    "client_credentials_manager = SpotifyClientCredentials(client_id=cid, client_secret=secret)\n",
    "sp = spotipy.Spotify(client_credentials_manager\n",
    "=\n",
    "client_credentials_manager)"
   ]
  },
  {
   "cell_type": "markdown",
   "metadata": {},
   "source": [
    "Atualmente a API do spotify limita até 2000 querys, ou seja, como no exemplo abaixo para fazer a busca por anos, cada ano retornará 2000 linhas, tenho a opção de colocar os dois anos juntos, porém só virá as 2000 e assim por diante, então para isso usei um loop para puxar e com isso me retornará 4000 linhas, sendo realizado as buscas de cada vez.\n",
    "\n",
    "O tempo para as buscas podem demorar dependendo do que você está buscando."
   ]
  },
  {
   "cell_type": "code",
   "execution_count": null,
   "metadata": {
    "scrolled": false
   },
   "outputs": [],
   "source": [
    "# inicia o contador de tempo\n",
    "start = time.time()\n",
    "\n",
    "# cria as listas vazias para receber as informações buscadas\n",
    "artist_name = []\n",
    "track_name = []\n",
    "popularity = []\n",
    "track_id = []\n",
    "\n",
    "# cria uma lista para o loop nas consultas\n",
    "years = ['year:2016','year:2017']\n",
    "\n",
    "# executando o loop\n",
    "for year in years:\n",
    "    \n",
    "    # encontra os elementos da busca\n",
    "    for i in range(0,2000,50):\n",
    "        track_results = sp.search(q=year, type='track', limit=50, offset=i, market='BR')\n",
    "        \n",
    "        # realiza o loop buscando as informações e inserindo nas listas vazias\n",
    "        for i, t in enumerate(track_results['tracks']['items']):\n",
    "            artist_name.append(t['artists'][0]['name'])\n",
    "            track_name.append(t['name'])\n",
    "            track_id.append(t['id'])\n",
    "            popularity.append(t['popularity'])\n",
    "\n",
    "# finaliza a contagem do tempo e mostra a duração da busca\n",
    "end = time.time()\n",
    "print(end - start)"
   ]
  },
  {
   "cell_type": "markdown",
   "metadata": {},
   "source": [
    "A busca acima são dos elementos principais para formar nosso conjunto de dados, abaixo podemos buscar mais atributos."
   ]
  },
  {
   "cell_type": "code",
   "execution_count": null,
   "metadata": {},
   "outputs": [],
   "source": [
    "def getTrackFeatures(id):\n",
    "    meta = sp.track(id)\n",
    "    features = sp.audio_features(id)\n",
    "\n",
    "    # meta\n",
    "    name = meta['name']\n",
    "    album = meta['album']['name']\n",
    "    artist = meta['album']['artists'][0]['name']\n",
    "    release_date = meta['album']['release_date']\n",
    "    length = meta['duration_ms']\n",
    "    popularity = meta['popularity']\n",
    "    \n",
    "\n",
    "    # features\n",
    "    track_id = features[0]['id']\n",
    "    mode = features[0]['mode']\n",
    "    acousticness = features[0]['acousticness']\n",
    "    danceability = features[0]['danceability']\n",
    "    energy = features[0]['energy']\n",
    "    instrumentalness = features[0]['instrumentalness']\n",
    "    liveness = features[0]['liveness']\n",
    "    valence = features[0]['valence']\n",
    "    loudness = features[0]['loudness']\n",
    "    speechiness = features[0]['speechiness']\n",
    "    tempo = features[0]['tempo']\n",
    "    duration_ms = features[0]['duration_ms']\n",
    "    time_signature = features[0]['time_signature']\n",
    "    \n",
    "\n",
    "    track = [name, album, artist, release_date, length, popularity, track_id, mode, acousticness, danceability, \n",
    "             energy, instrumentalness, liveness, valence, loudness, speechiness, tempo, duration_ms, time_signature]\n",
    "    \n",
    "    return track"
   ]
  },
  {
   "cell_type": "markdown",
   "metadata": {},
   "source": [
    "A célula de cima, estrutura as informações para buscar por elas. A célula de baixo, roda um loop coletando as informações dos atributos definidos acima e por fim coloca em dataframe e salva em arquivo *.csv*.\n",
    "\n",
    "**Obs.:** esse próximo loop é demorado dependendo da quantidade de elementos buscados e atenção ao *time.sleep* antes de iniciar cada rodada do loop, pois se não colocarmos esse tempo o servidor nos derruba."
   ]
  },
  {
   "cell_type": "code",
   "execution_count": null,
   "metadata": {},
   "outputs": [],
   "source": [
    "start = time.time()\n",
    "\n",
    "# loop over track ids \n",
    "tracks = []\n",
    "for i in range(len(track_id)):\n",
    "    track = getTrackFeatures(track_id[i])\n",
    "    tracks.append(track)\n",
    "    time.sleep(2)\n",
    "\n",
    "# create dataset\n",
    "df = pd.DataFrame(tracks, columns = ['name', 'album', 'artist', 'release_date', 'length', 'popularity', 'track_id', 'mode', \n",
    "                                     'acousticness', 'danceability', 'energy', 'instrumentalness', 'liveness', 'valence', \n",
    "                                     'loudness', 'speechiness', 'tempo', 'duration_ms', 'time_signature'])\n",
    "df.to_csv(\"spotify_2016-2017.csv\", sep = ',')\n",
    "\n",
    "end = time.time()\n",
    "print(end - start)"
   ]
  },
  {
   "cell_type": "markdown",
   "metadata": {},
   "source": [
    "## Para buscar a generos pelos artistas"
   ]
  },
  {
   "cell_type": "markdown",
   "metadata": {},
   "source": [
    "A API não nos dá como padrão da *consulta por músicas* os generos dela, portanto a solução que encontrei está abaixo.<br>\n",
    "Pode ser criado na sequencia, porém como tinha pensado nisso depois, segue minha solução. Importei a base das músicas por ano e coloquei a coluna dos *artistas* em uma lista. e coloquei essa lista no loop, extraindo as informações necessárias."
   ]
  },
  {
   "cell_type": "code",
   "execution_count": null,
   "metadata": {},
   "outputs": [],
   "source": [
    "df_2016_2017_genre = pd.read_csv('dados/spotify_2016-2017_.csv')\n",
    "\n",
    "artist_16_17 = pd.read_csv('dados/spotify_2016-2017.csv')['artist'].tolist()"
   ]
  },
  {
   "cell_type": "code",
   "execution_count": null,
   "metadata": {},
   "outputs": [],
   "source": [
    "start = time.time()\n",
    "genre_artist = []\n",
    "\n",
    "for i in artist_16_17:\n",
    "#     result = sp.search(sp.track(track_id[i])['album']['artists'][0]['name'])\n",
    "    result = sp.search(i)\n",
    "    track = result['tracks']['items'][0]\n",
    "\n",
    "    artist = sp.artist(track[\"artists\"][0][\"external_urls\"][\"spotify\"])\n",
    "#     print(\"artist genres:\", artist[\"genres\"])\n",
    "    genre_artist.append(artist[\"genres\"])\n",
    "    time.sleep(2)\n",
    "    \n",
    "end = time.time()\n",
    "print(end - start)\n",
    "\n",
    "#     album = sp.album(track[\"album\"][\"external_urls\"][\"spotify\"])\n",
    "#     print(\"album genres:\", album[\"genres\"])\n",
    "#     print(\"album release-date:\", album[\"release_date\"])"
   ]
  },
  {
   "cell_type": "markdown",
   "metadata": {},
   "source": [
    "Concatenei a lista dos generos junto com a lista que já havia puxado e salvei ela local novamente."
   ]
  },
  {
   "cell_type": "code",
   "execution_count": null,
   "metadata": {},
   "outputs": [],
   "source": [
    "# pd.DataFrame(genre_artist)\n",
    "data_transposed = zip(genre_artist)\n",
    "df = pd.DataFrame(data_transposed, columns=['genre'])"
   ]
  },
  {
   "cell_type": "code",
   "execution_count": null,
   "metadata": {},
   "outputs": [],
   "source": [
    "df_2016_2017_genre = pd.concat([df_2017_2017_genre, df], axis=1).drop(['Unnamed: 0'], axis=1)"
   ]
  },
  {
   "cell_type": "code",
   "execution_count": null,
   "metadata": {},
   "outputs": [],
   "source": [
    "# Create a Pandas Excel writer using XlsxWriter as the engine.\n",
    "writer = pd.ExcelWriter('spotify_2016_2017_.xlsx', engine='xlsxwriter')\n",
    "\n",
    "# Convert the dataframe to an XlsxWriter Excel object.\n",
    "df_2016_2017_genre.to_excel(writer, sheet_name='Sheet1', index=False)\n",
    "\n",
    "# Close the Pandas Excel writer and output the Excel file.\n",
    "writer.save()"
   ]
  },
  {
   "cell_type": "markdown",
   "metadata": {},
   "source": [
    "## Para buscar a playlist de usuários\n",
    "\n",
    "Necessário ter o `username` e o `id` da playlist. Uma das formas é entrar no site do spotify logado e buscar pelo perfil da pessoa, no barra de endereços, dentro da playlist o *id* poderá ser encontrado.\n",
    "\n",
    "Depois o processo é semelhante do que já foi descrito acima."
   ]
  },
  {
   "cell_type": "code",
   "execution_count": null,
   "metadata": {},
   "outputs": [],
   "source": [
    "def getTrackIDs(user, playlist_id):\n",
    "    ids = []\n",
    "    playlist = sp.user_playlist(user, playlist_id)\n",
    "    for item in playlist['tracks']['items']:\n",
    "        track = item['track']\n",
    "        ids.append(track['id'])\n",
    "    return ids\n",
    "\n",
    "ids = getTrackIDs('login.usuario', '2x1Nwheedt0LZcMo8etCzZ')"
   ]
  },
  {
   "cell_type": "code",
   "execution_count": null,
   "metadata": {},
   "outputs": [],
   "source": [
    "print(len(ids))\n",
    "print(ids)"
   ]
  },
  {
   "cell_type": "code",
   "execution_count": null,
   "metadata": {},
   "outputs": [],
   "source": [
    "sp.audio_features(ids[0])"
   ]
  },
  {
   "cell_type": "code",
   "execution_count": 10,
   "metadata": {},
   "outputs": [],
   "source": [
    "def getTrackFeatures(id):\n",
    "    meta = sp.track(id)\n",
    "    features = sp.audio_features(id)\n",
    "\n",
    "    # meta\n",
    "    name = meta['name']\n",
    "    album = meta['album']['name']\n",
    "    artist = meta['album']['artists'][0]['name']\n",
    "    release_date = meta['album']['release_date']\n",
    "    length = meta['duration_ms']\n",
    "    popularity = meta['popularity']\n",
    "\n",
    "    # features\n",
    "    track_id = features[0]['id']\n",
    "    mode = features[0]['mode']\n",
    "    acousticness = features[0]['acousticness']\n",
    "    danceability = features[0]['danceability']\n",
    "    energy = features[0]['energy']\n",
    "    instrumentalness = features[0]['instrumentalness']\n",
    "    liveness = features[0]['liveness']\n",
    "    valence = features[0]['valence']\n",
    "    loudness = features[0]['loudness']\n",
    "    speechiness = features[0]['speechiness']\n",
    "    tempo = features[0]['tempo']\n",
    "    duration_ms = features[0]['duration_ms']\n",
    "    time_signature = features[0]['time_signature']\n",
    "\n",
    "    track = [name, album, artist, release_date, length, popularity, track_id, mode, acousticness, danceability, \n",
    "             energy, instrumentalness, liveness, valence, loudness, speechiness, tempo, duration_ms, time_signature]\n",
    "    \n",
    "    return track"
   ]
  },
  {
   "cell_type": "code",
   "execution_count": null,
   "metadata": {},
   "outputs": [],
   "source": [
    "start = time.time()\n",
    "\n",
    "# loop over track ids \n",
    "tracks = []\n",
    "for i in range(len(ids)):\n",
    "    time.sleep(.5)\n",
    "    track = getTrackFeatures(ids[i])\n",
    "    tracks.append(track)\n",
    "\n",
    "# create dataset\n",
    "df = pd.DataFrame(tracks, columns = ['name', 'album', 'artist', 'release_date', 'length', 'popularity', 'track_id', 'mode', \n",
    "                                     'acousticness', 'danceability', 'energy', 'instrumentalness', 'liveness', 'valence', \n",
    "                                     'loudness', 'speechiness', 'tempo', 'duration_ms', 'time_signature'])\n",
    "# df.to_csv(\"jwserafim_playlist.csv\", sep = ',')\n",
    "\n",
    "end = time.time()\n",
    "print(end - start)"
   ]
  },
  {
   "cell_type": "markdown",
   "metadata": {},
   "source": [
    "## Considerações\n",
    "\n",
    "Para saber quais informações buscar, deve-se ter um conhecimento prévio de *web scraping*, isso é devido ao resultado que a API nos retorna sendo semelhante as estruturas de página web. A célula abaixo mostra um exemplo."
   ]
  },
  {
   "cell_type": "code",
   "execution_count": 2,
   "metadata": {
    "scrolled": true
   },
   "outputs": [
    {
     "data": {
      "text/plain": [
       "[{'external_urls': {'spotify': 'https://open.spotify.com/artist/1sPg5EHuQXTMElpZ4iUgXe'},\n",
       "  'href': 'https://api.spotify.com/v1/artists/1sPg5EHuQXTMElpZ4iUgXe',\n",
       "  'id': '1sPg5EHuQXTMElpZ4iUgXe',\n",
       "  'name': 'ANAVITÓRIA',\n",
       "  'type': 'artist',\n",
       "  'uri': 'spotify:artist:1sPg5EHuQXTMElpZ4iUgXe'},\n",
       " {'external_urls': {'spotify': 'https://open.spotify.com/artist/4iWkwAVzssjb8XgxdoOL6M'},\n",
       "  'href': 'https://api.spotify.com/v1/artists/4iWkwAVzssjb8XgxdoOL6M',\n",
       "  'id': '4iWkwAVzssjb8XgxdoOL6M',\n",
       "  'name': 'Tiago Iorc',\n",
       "  'type': 'artist',\n",
       "  'uri': 'spotify:artist:4iWkwAVzssjb8XgxdoOL6M'}]"
      ]
     },
     "execution_count": 2,
     "metadata": {},
     "output_type": "execute_result"
    }
   ],
   "source": [
    "artist= 'Gusttavo lima'\n",
    "# track= 'tipo borboleta'\n",
    "track= 'trevo tu'\n",
    "\n",
    "# track_id = sp.search(q='artist:' + artist + ' track:' + track, type='track')\n",
    "track_id = sp.search(q=' track:' + track, type='track')\n",
    "# for i in track_id['tracks']['items'][0]:\n",
    "#     print(i)\n",
    "\n",
    "id_track = track_id['tracks']['items'][0]['id']\n",
    "track_id['tracks']['items'][0]['artists']"
   ]
  },
  {
   "cell_type": "code",
   "execution_count": 3,
   "metadata": {},
   "outputs": [
    {
     "data": {
      "text/plain": [
       "{'spotify': 'https://open.spotify.com/track/2vRBYKWOyHtFMtiK60qRz7'}"
      ]
     },
     "execution_count": 3,
     "metadata": {},
     "output_type": "execute_result"
    }
   ],
   "source": [
    "track_id['tracks']['items'][0]['external_urls']"
   ]
  },
  {
   "cell_type": "markdown",
   "metadata": {},
   "source": [
    "## Referencias"
   ]
  },
  {
   "cell_type": "markdown",
   "metadata": {},
   "source": [
    "https://morioh.com/p/31b8a607b2b0<br>\n",
    "https://medium.com/@maxtingle/getting-started-with-spotifys-api-spotipy-197c3dc6353b<br>\n",
    "https://developer.spotify.com/dashboard/applications/85bde5058f48488eb76c9a41fd7942eb"
   ]
  }
 ],
 "metadata": {
  "kernelspec": {
   "display_name": "Python 3",
   "language": "python",
   "name": "python3"
  },
  "language_info": {
   "codemirror_mode": {
    "name": "ipython",
    "version": 3
   },
   "file_extension": ".py",
   "mimetype": "text/x-python",
   "name": "python",
   "nbconvert_exporter": "python",
   "pygments_lexer": "ipython3",
   "version": "3.7.6"
  }
 },
 "nbformat": 4,
 "nbformat_minor": 4
}
